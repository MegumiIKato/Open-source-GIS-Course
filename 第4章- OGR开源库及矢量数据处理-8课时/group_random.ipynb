{
 "cells": [
  {
   "cell_type": "code",
   "execution_count": 28,
   "metadata": {},
   "outputs": [],
   "source": [
    "import numpy as np\n",
    "import random\n",
    "from pprint import pprint "
   ]
  },
  {
   "cell_type": "code",
   "execution_count": 3,
   "metadata": {},
   "outputs": [
    {
     "data": {
      "text/plain": [
       "29"
      ]
     },
     "execution_count": 3,
     "metadata": {},
     "output_type": "execute_result"
    }
   ],
   "source": [
    "num_group = 5\n",
    "students = {'郑道旸':'男', '段忠彬':'男','浦方州':'男','邰新茹':'女','李欣荣':'女','张源舫':'女', '郑静':'女', '孙苡皓':'男', '胡枭鑫':'男', '杨琦佳':'女', '李根轩':'男', '周星宇':'男','李永旭':'男','施珍敏':'女','成蔚':'女','娄以佳':'女','孔令娜':'女','何哈优':'女','袁婧':'女','王显峰':'男','李树萍':'女','李佳宇':'男','胡喜':'男','杨韦嘉':'女','石娜丽':'女','洪阳':'男','许人允':'女','汪俊涵':'男', '刘兴茹':'女'}\n",
    "len(students)\n",
    "\n"
   ]
  },
  {
   "cell_type": "code",
   "execution_count": 25,
   "metadata": {},
   "outputs": [
    {
     "name": "stdout",
     "output_type": "stream",
     "text": [
      "boy: ['胡枭鑫', '段忠彬', '郑道旸', '李佳宇', '浦方州', '汪俊涵', '胡喜', '周星宇', '王显峰', '李永旭', '李根轩', '洪阳', '孙苡皓']\n",
      "girl: ['袁婧', '郑静', '杨韦嘉', '孔令娜', '娄以佳', '何哈优', '成蔚', '邰新茹', '李欣荣', '刘兴茹', '张源舫', '石娜丽', '李树萍', '杨琦佳', '许人允', '施珍敏']\n"
     ]
    }
   ],
   "source": [
    "students_boy, students_girl = [], []\n",
    "for stu in students:\n",
    "    if students[stu] == '男':\n",
    "        students_boy.append(stu)\n",
    "    else:\n",
    "        students_girl.append(stu)\n",
    "random.shuffle(students_boy)\n",
    "random.shuffle(students_girl)\n",
    "print('boy:', students_boy)\n",
    "print('girl:', students_girl)\n"
   ]
  },
  {
   "cell_type": "code",
   "execution_count": 5,
   "metadata": {},
   "outputs": [
    {
     "name": "stdout",
     "output_type": "stream",
     "text": [
      "[[], [], [], [], []]\n",
      "郑道旸\n",
      "段忠彬\n",
      "浦方州\n",
      "孙苡皓\n",
      "胡枭鑫\n",
      "李根轩\n",
      "周星宇\n",
      "李永旭\n",
      "王显峰\n",
      "李佳宇\n",
      "胡喜\n",
      "洪阳\n",
      "汪俊涵\n",
      "3\n",
      "邰新茹\n",
      "李欣荣\n",
      "张源舫\n",
      "郑静\n",
      "杨琦佳\n",
      "施珍敏\n",
      "成蔚\n",
      "娄以佳\n",
      "孔令娜\n",
      "何哈优\n",
      "袁婧\n",
      "李树萍\n",
      "杨韦嘉\n",
      "石娜丽\n",
      "许人允\n",
      "刘兴茹\n"
     ]
    }
   ],
   "source": [
    "students_groups = []\n",
    "for i in range(num_group):\n",
    "    students_groups.append([])\n",
    "print(students_groups)\n",
    "\n",
    "i = 0\n",
    "for boy in students_boy:\n",
    "    print(boy)\n",
    "    students_groups[i].append(boy)\n",
    "    i = i+1\n",
    "    if i>4: \n",
    "        i = 0\n",
    "print(i)\n",
    "\n",
    "for girl in students_girl:\n",
    "    print(girl)\n",
    "    students_groups[i].append(girl)\n",
    "    i = i+1\n",
    "    if i>4: \n",
    "        i = 0\n"
   ]
  },
  {
   "cell_type": "code",
   "execution_count": 27,
   "metadata": {},
   "outputs": [
    {
     "name": "stdout",
     "output_type": "stream",
     "text": [
      "[['郑道旸', '李根轩', '胡喜', '张源舫', '娄以佳', '杨韦嘉'],\n",
      " ['段忠彬', '周星宇', '洪阳', '郑静', '孔令娜', '石娜丽'],\n",
      " ['浦方州', '李永旭', '汪俊涵', '杨琦佳', '何哈优', '许人允'],\n",
      " ['孙苡皓', '王显峰', '邰新茹', '施珍敏', '袁婧', '刘兴茹'],\n",
      " ['胡枭鑫', '李佳宇', '李欣荣', '成蔚', '李树萍']]\n"
     ]
    }
   ],
   "source": [
    "pprint(students_groups)\n"
   ]
  }
 ],
 "metadata": {
  "kernelspec": {
   "display_name": "venv",
   "language": "python",
   "name": "python3"
  },
  "language_info": {
   "codemirror_mode": {
    "name": "ipython",
    "version": 3
   },
   "file_extension": ".py",
   "mimetype": "text/x-python",
   "name": "python",
   "nbconvert_exporter": "python",
   "pygments_lexer": "ipython3",
   "version": "3.9.18"
  }
 },
 "nbformat": 4,
 "nbformat_minor": 2
}
