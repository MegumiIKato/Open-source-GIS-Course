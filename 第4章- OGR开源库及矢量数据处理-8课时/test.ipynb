{
 "cells": [
  {
   "cell_type": "code",
   "execution_count": 2,
   "metadata": {},
   "outputs": [],
   "source": [
    "from osgeo import ogr\n"
   ]
  },
  {
   "cell_type": "code",
   "execution_count": 3,
   "metadata": {},
   "outputs": [],
   "source": [
    "path_kunming = 'data/Section-2/kunming_wgs84.gpkg'"
   ]
  },
  {
   "cell_type": "code",
   "execution_count": 11,
   "metadata": {},
   "outputs": [
    {
     "name": "stdout",
     "output_type": "stream",
     "text": [
      "<osgeo.ogr.DataSource; proxy of <Swig Object of type 'OGRDataSourceShadow *' at 0x00000242DD53AC30> >\n",
      "<osgeo.ogr.Layer; proxy of <Swig Object of type 'OGRLayerShadow *' at 0x00000242DD14B510> >\n",
      "14\n",
      "<osgeo.ogr.Feature; proxy of <Swig Object of type 'OGRFeatureShadow *' at 0x00000242DD0E0120> >\n",
      "2\n"
     ]
    }
   ],
   "source": [
    "ds = ogr.Open(path_kunming, 0)\n",
    "print(ds)\n",
    "layer = ds.GetLayer(0)\n",
    "print(layer)\n",
    "num_fea = layer.GetFeatureCount()\n",
    "print(num_fea)\n",
    "fea = layer.GetFeature(1)\n",
    "print(fea)\n",
    "num_field = fea.GetFieldCount()\n",
    "print(num_field)\n"
   ]
  },
  {
   "cell_type": "code",
   "execution_count": 16,
   "metadata": {},
   "outputs": [
    {
     "name": "stdout",
     "output_type": "stream",
     "text": [
      "dt_adcode\n",
      "dt_name\n"
     ]
    }
   ],
   "source": [
    "fea = layer.GetFeature(1)\n",
    "for i in range(0, num_field):\n",
    "    field = fea.GetFieldDefnRef(i).GetName()\n",
    "    print(field)\n"
   ]
  },
  {
   "cell_type": "code",
   "execution_count": 23,
   "metadata": {},
   "outputs": [
    {
     "name": "stdout",
     "output_type": "stream",
     "text": [
      "guandu\n",
      "wuhua\n",
      "panglong\n",
      "guandu\n",
      "xishan\n",
      "dongchuan\n",
      "chenggong\n",
      "jinling\n",
      "fumin\n",
      "yiliang\n",
      "shilin\n",
      "songming\n",
      "luquan\n",
      "xuandian\n",
      "anling\n"
     ]
    }
   ],
   "source": [
    "field_name = 'dt_name'\n",
    "fea = layer.GetFeature(3)\n",
    "field_value = fea.GetField(field_name)\n",
    "print(field_value)\n",
    "for i in range(0, layer.GetFeatureCount()):\n",
    "    fea = layer.GetFeature(i+1)\n",
    "    field_value = fea.GetField(field_name)\n",
    "    print(field_value)\n"
   ]
  },
  {
   "cell_type": "code",
   "execution_count": 24,
   "metadata": {},
   "outputs": [
    {
     "name": "stdout",
     "output_type": "stream",
     "text": [
      "GEOGCS[\"WGS 84\",\n",
      "    DATUM[\"WGS_1984\",\n",
      "        SPHEROID[\"WGS 84\",6378137,298.257223563,\n",
      "            AUTHORITY[\"EPSG\",\"7030\"]],\n",
      "        AUTHORITY[\"EPSG\",\"6326\"]],\n",
      "    PRIMEM[\"Greenwich\",0,\n",
      "        AUTHORITY[\"EPSG\",\"8901\"]],\n",
      "    UNIT[\"degree\",0.0174532925199433,\n",
      "        AUTHORITY[\"EPSG\",\"9122\"]],\n",
      "    AXIS[\"Latitude\",NORTH],\n",
      "    AXIS[\"Longitude\",EAST],\n",
      "    AUTHORITY[\"EPSG\",\"4326\"]]\n"
     ]
    }
   ],
   "source": [
    "spa_ref = layer.GetSpatialRef()\n",
    "print(spa_ref)"
   ]
  },
  {
   "cell_type": "code",
   "execution_count": 26,
   "metadata": {},
   "outputs": [
    {
     "name": "stdout",
     "output_type": "stream",
     "text": [
      "MULTIPOLYGON\n"
     ]
    }
   ],
   "source": [
    "fea_geo = fea.GetGeometryRef()\n",
    "fea_geo_name = fea_geo.GetGeometryName()\n",
    "print(fea_geo_name)"
   ]
  },
  {
   "cell_type": "code",
   "execution_count": 28,
   "metadata": {},
   "outputs": [],
   "source": [
    "ds = None\n"
   ]
  }
 ],
 "metadata": {
  "kernelspec": {
   "display_name": "venv",
   "language": "python",
   "name": "python3"
  },
  "language_info": {
   "codemirror_mode": {
    "name": "ipython",
    "version": 3
   },
   "file_extension": ".py",
   "mimetype": "text/x-python",
   "name": "python",
   "nbconvert_exporter": "python",
   "pygments_lexer": "ipython3",
   "version": "3.9.18"
  }
 },
 "nbformat": 4,
 "nbformat_minor": 2
}
