{
 "cells": [
  {
   "attachments": {},
   "cell_type": "markdown",
   "metadata": {},
   "source": [
    "#### **利用ogr开源库进行矢量文件的读写**\n",
    "备注:该程序在gdal=3.6.2版本下运行"
   ]
  },
  {
   "cell_type": "code",
   "execution_count": 13,
   "metadata": {},
   "outputs": [],
   "source": [
    "from osgeo import ogr\n",
    "import os"
   ]
  },
  {
   "attachments": {},
   "cell_type": "markdown",
   "metadata": {},
   "source": [
    "##### **1. 基于ogr的矢量文件读入**"
   ]
  },
  {
   "cell_type": "code",
   "execution_count": 14,
   "metadata": {},
   "outputs": [],
   "source": [
    "path_kunming = 'data/Section-2/kunming_wgs84.gpkg'\n",
    "\n"
   ]
  },
  {
   "cell_type": "code",
   "execution_count": 15,
   "metadata": {},
   "outputs": [
    {
     "name": "stdout",
     "output_type": "stream",
     "text": [
      "<osgeo.ogr.DataSource; proxy of <Swig Object of type 'OGRDataSourceShadow *' at 0x0000024FCEA5B9C0> >\n",
      "<osgeo.ogr.Layer; proxy of <Swig Object of type 'OGRLayerShadow *' at 0x0000024FCEE77B40> >\n",
      "Number of feature:  14\n",
      "<osgeo.ogr.Feature; proxy of <Swig Object of type 'OGRFeatureShadow *' at 0x0000024FCEE77F60> >\n",
      "Number of fields: 2\n"
     ]
    }
   ],
   "source": [
    "### 读入矢量文件\n",
    "ds = ogr.Open(path_kunming, 0)    # 0是只读，1是可写\n",
    "print(ds)\n",
    "layer = ds.GetLayer(0)            # 获取矢量文件Layer\n",
    "print(layer)\n",
    "num_fea = layer.GetFeatureCount()   ## 统计要素个数\n",
    "print('Number of feature: ', num_fea)\n",
    "fea = layer.GetFeature(1)    ### 获取要素。!!!索引从1开始。\n",
    "print(fea)\n",
    "num_field = fea.GetFieldCount()   ## 统计属性个数\n",
    "print('Number of fields:', num_field)\n"
   ]
  },
  {
   "attachments": {},
   "cell_type": "markdown",
   "metadata": {},
   "source": [
    "##### **1.1. 查看要素属性信息**"
   ]
  },
  {
   "cell_type": "code",
   "execution_count": 16,
   "metadata": {},
   "outputs": [
    {
     "name": "stdout",
     "output_type": "stream",
     "text": [
      "['dt_adcode', 'dt_name']\n"
     ]
    }
   ],
   "source": [
    "### 查看属性字段名\n",
    "fields = []\n",
    "fea = layer.GetFeature(1)\n",
    "for i in range(0, num_field):   ### range\n",
    "    field = fea.GetFieldDefnRef(i).GetName()   ### 获取字段定义，索引从0开始。\n",
    "    fields.append(field)\n",
    "print(fields)\n"
   ]
  },
  {
   "cell_type": "code",
   "execution_count": 17,
   "metadata": {},
   "outputs": [
    {
     "name": "stdout",
     "output_type": "stream",
     "text": [
      "Field value: wuhua\n",
      "Field value of the feature 1: wuhua\n",
      "Field value of the feature 2: panglong\n",
      "Field value of the feature 3: guandu\n",
      "Field value of the feature 4: xishan\n",
      "Field value of the feature 5: dongchuan\n",
      "Field value of the feature 6: chenggong\n",
      "Field value of the feature 7: jinling\n",
      "Field value of the feature 8: fumin\n",
      "Field value of the feature 9: yiliang\n",
      "Field value of the feature 10: shilin\n",
      "Field value of the feature 11: songming\n",
      "Field value of the feature 12: luquan\n",
      "Field value of the feature 13: xuandian\n",
      "Field value of the feature 14: anling\n"
     ]
    }
   ],
   "source": [
    "### 查看属性字段值（以dt_name为例）\n",
    "field_name = 'dt_name'\n",
    "fea = layer.GetFeature(1)\n",
    "print('Field value:', fea.GetField(field_name))\n",
    "### 获得所有要素的字段值\n",
    "for i in range(layer.GetFeatureCount()):   ##\n",
    "  fea = layer.GetFeature(i+1)   ## 索引从1开始。\n",
    "  print(f'Field value of the feature {i+1}:', fea.GetField(field_name))\n",
    "\n"
   ]
  },
  {
   "cell_type": "markdown",
   "metadata": {},
   "source": [
    "##### **1.2. 查看矢量文件几何信息**"
   ]
  },
  {
   "cell_type": "code",
   "execution_count": 18,
   "metadata": {},
   "outputs": [
    {
     "data": {
      "text/plain": [
       "'GEOGCS[\"WGS 84\",DATUM[\"WGS_1984\",SPHEROID[\"WGS 84\",6378137,298.257223563,AUTHORITY[\"EPSG\",\"7030\"]],AUTHORITY[\"EPSG\",\"6326\"]],PRIMEM[\"Greenwich\",0,AUTHORITY[\"EPSG\",\"8901\"]],UNIT[\"degree\",0.0174532925199433,AUTHORITY[\"EPSG\",\"9122\"]],AXIS[\"Latitude\",NORTH],AXIS[\"Longitude\",EAST],AUTHORITY[\"EPSG\",\"4326\"]]'"
      ]
     },
     "execution_count": 18,
     "metadata": {},
     "output_type": "execute_result"
    }
   ],
   "source": [
    "### 空间参考查看\n",
    "SpaRef = layer.GetSpatialRef()\n",
    "SpaRef.ExportToWkt()\n"
   ]
  },
  {
   "cell_type": "code",
   "execution_count": 19,
   "metadata": {},
   "outputs": [
    {
     "name": "stdout",
     "output_type": "stream",
     "text": [
      "MULTIPOLYGON\n"
     ]
    }
   ],
   "source": [
    "### 几何类型查看\n",
    "fea_geo = fea.GetGeometryRef()\n",
    "fea_geo_name = fea_geo.GetGeometryName()\n",
    "print(fea_geo_name)\n"
   ]
  },
  {
   "cell_type": "code",
   "execution_count": 20,
   "metadata": {},
   "outputs": [],
   "source": [
    "ds = None   ### 关闭数据源\n"
   ]
  },
  {
   "attachments": {},
   "cell_type": "markdown",
   "metadata": {},
   "source": [
    "##### **2. 写出矢量文件**\n",
    "1. 写出只含某一字段的矢量数据；\n",
    "2. 写出只含某一要素的矢量数据。"
   ]
  },
  {
   "cell_type": "code",
   "execution_count": 21,
   "metadata": {},
   "outputs": [],
   "source": [
    "path_kunming_out_1 = 'data/Section-4/kunming_districts_dtname.gpkg'\n",
    "path_kunming_out_2 = 'data/Section-4/kunming_chenggong.gpkg'\n"
   ]
  },
  {
   "attachments": {},
   "cell_type": "markdown",
   "metadata": {},
   "source": [
    "##### 2.1 写出只含有某一字段的矢量文件\n",
    "1）读入矢量数据并获取矢量数据图层；  \n",
    "2）创建新矢量文件，依次创建数据源、图层、字段。其中新建图层需定义图层名、几何、空间参考。新建字段需先定义字段，定义字段需提供字段名、字段数据类型。  \n",
    "3）遍历矢量图层要素，写入要素几何及所需属性字段。\n"
   ]
  },
  {
   "cell_type": "code",
   "execution_count": 22,
   "metadata": {},
   "outputs": [
    {
     "name": "stdout",
     "output_type": "stream",
     "text": [
      "wuhua\n",
      "panglong\n",
      "guandu\n",
      "xishan\n",
      "dongchuan\n",
      "chenggong\n",
      "jinling\n",
      "fumin\n",
      "yiliang\n",
      "shilin\n",
      "songming\n",
      "luquan\n",
      "xuandian\n",
      "anling\n"
     ]
    }
   ],
   "source": [
    "## 读入矢量图层\n",
    "field_name = 'dt_name'\n",
    "in_ds = ogr.Open(path_kunming, 0)        # 0是只读，1是可写\n",
    "in_layer = in_ds.GetLayer(0)             # 获取矢量文件图层Layer\n",
    "## 定义写出文件\n",
    "driver = ogr.GetDriverByName('GPKG')   ## 定义文件驱动（用于写出文件,其他: ‘ESRI Shapefile’）\n",
    "ds_out = driver.CreateDataSource(path_kunming_out_1)  ## 创建数据源DataSource\n",
    "layer_out = ds_out.CreateLayer('kunming_districts_dtname', \\\n",
    "                                geom_type = ogr.wkbPolygon, \\\n",
    "                                srs = in_layer.GetSpatialRef())\n",
    "field_defn = ogr.FieldDefn(field_name, ogr.OFTString)   ## 定义属性字段\n",
    "layer_out.CreateField(field_defn)    ## 在图层中写入属性字段\n",
    "# fea_defn = layer_out.GetFeature(1).GetDefnRef()    ## layer_out没有要素，故.GetFeature(1)会报错\n",
    "fea_defn = layer_out.GetLayerDefn()   ## 获得要素定义（即图层定义, 该矢量此时只定义了图层，未定义要素，所以只能通过图层获取）\n",
    "### 创建要素（将复制‘昆明市边界_wgs84.shp’文件中要素)\n",
    "for i in range(in_layer.GetFeatureCount()):   ## 遍历各要素\n",
    "    in_fea = in_layer.GetFeature(i+1)\n",
    "    in_geo = in_fea.geometry()             ## 获得原矢量要素的几何\n",
    "    fea_out = ogr.Feature(fea_defn)    ## 创建要素\n",
    "    fea_out.SetGeometry(in_geo)   ## 对要素写入几何\n",
    "    field_value = in_fea.GetField(field_name)   ## 从元素要素中获取字段值\n",
    "    print(field_value)\n",
    "    fea_out.SetField(0, field_value)\n",
    "    layer_out.CreateFeature(fea_out)\n",
    "in_ds = None\n",
    "ds_out = None         #  ### 保存/关闭 DataSource (!重要)\n",
    "# os.remove(path_kunming_out_1)  ## 注意创建路径不能被占用\n"
   ]
  },
  {
   "attachments": {},
   "cell_type": "markdown",
   "metadata": {},
   "source": [
    "##### 2.2 写出只含有呈贡区的矢量文件\n"
   ]
  },
  {
   "cell_type": "code",
   "execution_count": 23,
   "metadata": {},
   "outputs": [],
   "source": [
    "## 读入矢量图层\n",
    "in_ds = ogr.Open(path_kunming, 0)           # 0是只读，1是可写\n",
    "in_layer = in_ds.GetLayer()    # 获取矢量文件Layer\n",
    "### 创建写出文件\n",
    "driver = ogr.GetDriverByName('GPKG')\n",
    "ds_out = driver.CreateDataSource(path_kunming_out_2)\n",
    "layer_out = ds_out.CreateLayer('kunming_chenggong', geom_type=ogr.wkbPolygon, srs=in_layer.GetSpatialRef())\n",
    "fea_defn = layer_out.GetLayerDefn()      ## 获得空要素定义(或空图层定义)\n",
    "### 创建字段\n",
    "# layer_defn = layer_out.GetLayerDefn()    ## 获取图层定义，用于测试新建图层字段数\n",
    "# print('Number of fields (before field creating): ', layer_defn.GetFieldCount())  ### 字段创建前字段数\n",
    "in_fea = in_layer.GetFeature(1)   ## 获取要素\n",
    "for i in range(in_fea.GetFieldCount()):\n",
    "  field_defn = in_fea.GetFieldDefnRef(i)   ## 创建字段定义\n",
    "  layer_out.CreateField(field_defn)        ## 向图层写入字段定义\n",
    "# layer_defn = layer_out.GetLayerDefn()    ## 获取图层定义，用于测试写入字段后字段数\n",
    "# print('Number of fields (after field creating): ', layer_defn.GetFieldCount())\n",
    "\n",
    "### 创建要素（复制‘昆明市边界_wgs84.shp’文件中要素)\n",
    "for i in range(in_layer.GetFeatureCount()):   ## 遍历要素\n",
    "  in_fea = in_layer.GetFeature(i+1)\n",
    "  if str(in_fea.GetField('dt_name')) == 'chenggong':\n",
    "    fea_out = ogr.Feature(fea_defn)\n",
    "    fea_out.SetGeometry(in_fea.geometry())\n",
    "    for i in range(in_fea.GetFieldCount()):   ## 遍历字段\n",
    "      field_value = in_fea.GetField(i)\n",
    "      fea_out.SetField(i, field_value)\n",
    "    layer_out.CreateFeature(fea_out)   ## 将要素写入到新建图层中\n",
    "in_ds = None\n",
    "ds_out = None        #  ### 保存/关闭 DataSource (重要)\n"
   ]
  },
  {
   "cell_type": "markdown",
   "metadata": {},
   "source": [
    "##### 课后练习：写出只含五华区、盘龙区、西山区、官渡区、呈贡区的矢量文件。"
   ]
  }
 ],
 "metadata": {
  "kernelspec": {
   "display_name": "venv",
   "language": "python",
   "name": "python3"
  },
  "language_info": {
   "codemirror_mode": {
    "name": "ipython",
    "version": 3
   },
   "file_extension": ".py",
   "mimetype": "text/x-python",
   "name": "python",
   "nbconvert_exporter": "python",
   "pygments_lexer": "ipython3",
   "version": "3.9.18"
  },
  "orig_nbformat": 4
 },
 "nbformat": 4,
 "nbformat_minor": 2
}
