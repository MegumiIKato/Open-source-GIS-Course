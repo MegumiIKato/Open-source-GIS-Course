{
 "cells": [
  {
   "cell_type": "code",
   "execution_count": 4,
   "metadata": {},
   "outputs": [],
   "source": [
    "import numpy as np\n"
   ]
  },
  {
   "cell_type": "code",
   "execution_count": 2,
   "metadata": {},
   "outputs": [
    {
     "data": {
      "text/plain": [
       "29"
      ]
     },
     "execution_count": 2,
     "metadata": {},
     "output_type": "execute_result"
    }
   ],
   "source": [
    "students = ['郑道旸', '段忠彬','浦方州','邰新茹','李欣荣','张源舫', '郑静', '孙苡皓', '胡枭鑫', '杨琦佳', '李根轩', '周星宇','李永旭','施珍敏','成蔚','娄以佳','孔令娜','何哈优','袁婧','王显峰','李树萍','李佳宇','胡喜','杨韦嘉','石娜丽','洪阳','许人允','汪俊涵', '刘兴茹']\n",
    "len(students)\n"
   ]
  },
  {
   "cell_type": "code",
   "execution_count": 7,
   "metadata": {},
   "outputs": [
    {
     "name": "stdout",
     "output_type": "stream",
     "text": [
      "许人允\n"
     ]
    }
   ],
   "source": [
    "id = np.random.randint(0, 29)\n",
    "print(students[id])\n",
    "\n"
   ]
  },
  {
   "cell_type": "markdown",
   "metadata": {},
   "source": [
    "1. 找到项目，fork转载\n",
    "2. git clone 下载；\n",
    "3. vscode修改，git commit提交\n",
    "4. 上传github\n",
    "5. 请求合并。\n",
    "\n"
   ]
  }
 ],
 "metadata": {
  "kernelspec": {
   "display_name": "venv",
   "language": "python",
   "name": "python3"
  },
  "language_info": {
   "codemirror_mode": {
    "name": "ipython",
    "version": 3
   },
   "file_extension": ".py",
   "mimetype": "text/x-python",
   "name": "python",
   "nbconvert_exporter": "python",
   "pygments_lexer": "ipython3",
   "version": "3.9.18"
  }
 },
 "nbformat": 4,
 "nbformat_minor": 2
}
