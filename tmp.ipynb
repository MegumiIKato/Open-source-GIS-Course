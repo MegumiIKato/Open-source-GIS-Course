{
 "cells": [
  {
   "cell_type": "code",
   "execution_count": 1,
   "metadata": {},
   "outputs": [],
   "source": [
    "import rasterio   # 导入rasterio库，用于读取和处理栅格数据\n",
    "from rasterio.warp import calculate_default_transform, reproject, Resampling  # 导入重投影相关的函数和枚举\n",
    "import geopandas as gpd  # 导入geopandas库，用于处理矢量数据（GeoDataFrame）\n",
    "import numpy as np\n",
    "import os  # 导入操作系统模块，用于与操作系统进行交互（如文件路径处理）\n",
    "os.environ['PROJ_LIB'] = r'C:/Users/HP/miniconda3/envs/venv/Lib/site-packages/pyproj/data'  # 设置PROJ_LIB环境变量"
   ]
  },
  {
   "cell_type": "code",
   "execution_count": 2,
   "metadata": {},
   "outputs": [],
   "source": [
    "# 定义重投影函数\n",
    "def img_reproj(data_rio, ref_data=None, crs_dst=None, output_path=None):\n",
    "    \"\"\"\n",
    "    重投影栅格数据函数。\n",
    " \n",
    "    参数:\n",
    "    data_rio: rasterio类对象，表示待重投影的栅格数据。\n",
    "    ref_data: 参考数据，可以是栅格数据、rasterio对象或矢量数据（GeoDataFrame），提供重投影坐标系。\n",
    "    crs_dst: epsg格式的坐标系，用于指定重投影的目标坐标系（如果ref_data提供，则此参数可选）。\n",
    "    output_path: 保存重投影后数据的路径。\n",
    " \n",
    "    返回:\n",
    "    data_reproj_rio: 重投影后的rasterio栅格对象。\n",
    "    \"\"\"\n",
    " \n",
    "    # 检查ref_data和crs_dst参数，确保至少有一个被设置\n",
    "    if ref_data is None and crs_dst is None:\n",
    "        raise ValueError(\"必须设置ref_data或crs_dst参数之一\")\n",
    " \n",
    "    # 提取参考数据的坐标系\n",
    "    if isinstance(ref_data, str):  # ref_data是文件路径\n",
    "        if ref_data.lower().endswith(('.tif', '.tiff')):  # 参考数据为栅格数据\n",
    "            with rasterio.open(ref_data) as ref_rio:\n",
    "                crs_dst = ref_rio.crs\n",
    "        else:  # 参考数据为矢量数据\n",
    "            gdf = gpd.read_file(ref_data)\n",
    "            crs_dst = gdf.crs.to_string()\n",
    "    elif isinstance(ref_data, rasterio.io.DatasetReader):  # rasterio对象\n",
    "        crs_dst = ref_data.crs\n",
    "    elif isinstance(ref_data, gpd.GeoDataFrame):  # GeoDataFrame对象\n",
    "        crs_dst = ref_data.crs.to_string()\n",
    " \n",
    "    # 获取原始栅格数据的坐标系\n",
    "    crs_src = data_rio.crs\n",
    " \n",
    "    # 计算重投影所需的变换参数\n",
    "    transform, width, height = calculate_default_transform(\n",
    "        crs_src, crs_dst, data_rio.width, data_rio.height, *data_rio.bounds\n",
    "    )\n",
    " \n",
    "    # 创建一个新的rasterio对象，用于存储重投影后的数据\n",
    "    kwargs = data_rio.meta.copy()\n",
    "    kwargs.update({\n",
    "        'crs': crs_dst,\n",
    "        'transform': transform,\n",
    "        'width': width,\n",
    "        'height': height\n",
    "    })\n",
    " \n",
    "    # 重投影数据\n",
    "    with rasterio.Env():\n",
    "        with rasterio.open(data_rio.name) as src:\n",
    "            if output_path:\n",
    "                # 如果指定了输出路径，则直接保存到磁盘\n",
    "                with rasterio.open(output_path, 'w', **kwargs) as dst:\n",
    "                    for i in range(1, src.count + 1):\n",
    "                        reproject(\n",
    "                            source=rasterio.band(src, i),\n",
    "                            destination=rasterio.band(dst, i),\n",
    "                            src_transform=src.transform,\n",
    "                            src_crs=src.crs,\n",
    "                            dst_transform=transform,\n",
    "                            dst_crs=crs_dst,\n",
    "                            resampling=rasterio.warp.Resampling.bilinear\n",
    "                        )\n",
    "                    return None  # 不返回rasterio对象，因为已经保存到磁盘\n",
    "            else:\n",
    "                # 如果没有指定输出路径，则保存到内存并返回\n",
    "                data_reproj_rio = rasterio.MemoryFile()\n",
    "                with data_reproj_rio.open(**kwargs) as memfile:\n",
    "                    for i in range(1, src.count + 1):\n",
    "                        reproject(\n",
    "                            source=rasterio.band(src, i),\n",
    "                            destination=rasterio.band(memfile, i),\n",
    "                            src_transform=src.transform,\n",
    "                            src_crs=src.crs,\n",
    "                            dst_transform=transform,\n",
    "                            dst_crs=crs_dst,\n",
    "                            resampling=rasterio.warp.Resampling.bilinear\n",
    "                        )\n",
    "                return data_reproj_rio\n",
    "\n"
   ]
  },
  {
   "cell_type": "code",
   "execution_count": 3,
   "metadata": {},
   "outputs": [
    {
     "ename": "CRSError",
     "evalue": "The EPSG code is unknown. PROJ: proj_create_from_database: C:\\Users\\HP\\miniconda3\\envs\\venv\\Library\\share\\proj\\proj.db contains DATABASE.LAYOUT.VERSION.MINOR = 2 whereas a number >= 4 is expected. It comes from another PROJ installation.",
     "output_type": "error",
     "traceback": [
      "\u001b[1;31m---------------------------------------------------------------------------\u001b[0m",
      "\u001b[1;31mCPLE_AppDefinedError\u001b[0m                      Traceback (most recent call last)",
      "File \u001b[1;32mrasterio\\\\crs.pyx:592\u001b[0m, in \u001b[0;36mrasterio.crs.CRS.from_epsg\u001b[1;34m()\u001b[0m\n",
      "File \u001b[1;32mrasterio\\\\_err.pyx:289\u001b[0m, in \u001b[0;36mrasterio._err.exc_wrap_int\u001b[1;34m()\u001b[0m\n",
      "\u001b[1;31mCPLE_AppDefinedError\u001b[0m: PROJ: proj_create_from_database: C:\\Users\\HP\\miniconda3\\envs\\venv\\Library\\share\\proj\\proj.db contains DATABASE.LAYOUT.VERSION.MINOR = 2 whereas a number >= 4 is expected. It comes from another PROJ installation.",
      "\nDuring handling of the above exception, another exception occurred:\n",
      "\u001b[1;31mCRSError\u001b[0m                                  Traceback (most recent call last)",
      "Cell \u001b[1;32mIn[3], line 12\u001b[0m\n\u001b[0;32m     10\u001b[0m crs_dst \u001b[38;5;241m=\u001b[39m \u001b[38;5;124m'\u001b[39m\u001b[38;5;124mEPSG:4326\u001b[39m\u001b[38;5;124m'\u001b[39m  \u001b[38;5;66;03m# 设置目标CRS为WGS84坐标系\u001b[39;00m\n\u001b[0;32m     11\u001b[0m \u001b[38;5;66;03m##示例调用\u001b[39;00m\n\u001b[1;32m---> 12\u001b[0m dst \u001b[38;5;241m=\u001b[39m \u001b[43mimg_reproj\u001b[49m\u001b[43m(\u001b[49m\u001b[43mdata_rio\u001b[49m\u001b[38;5;241;43m=\u001b[39;49m\u001b[43mdata_rio\u001b[49m\u001b[43m,\u001b[49m\u001b[43m \u001b[49m\u001b[43mcrs_dst\u001b[49m\u001b[38;5;241;43m=\u001b[39;49m\u001b[43mcrs_dst\u001b[49m\u001b[43m,\u001b[49m\u001b[43m \u001b[49m\u001b[43moutput_path\u001b[49m\u001b[38;5;241;43m=\u001b[39;49m\u001b[43mpath_out\u001b[49m\u001b[43m)\u001b[49m\n",
      "Cell \u001b[1;32mIn[2], line 37\u001b[0m, in \u001b[0;36mimg_reproj\u001b[1;34m(data_rio, ref_data, crs_dst, output_path)\u001b[0m\n\u001b[0;32m     34\u001b[0m crs_src \u001b[38;5;241m=\u001b[39m data_rio\u001b[38;5;241m.\u001b[39mcrs\n\u001b[0;32m     36\u001b[0m \u001b[38;5;66;03m# 计算重投影所需的变换参数\u001b[39;00m\n\u001b[1;32m---> 37\u001b[0m transform, width, height \u001b[38;5;241m=\u001b[39m \u001b[43mcalculate_default_transform\u001b[49m\u001b[43m(\u001b[49m\n\u001b[0;32m     38\u001b[0m \u001b[43m    \u001b[49m\u001b[43mcrs_src\u001b[49m\u001b[43m,\u001b[49m\u001b[43m \u001b[49m\u001b[43mcrs_dst\u001b[49m\u001b[43m,\u001b[49m\u001b[43m \u001b[49m\u001b[43mdata_rio\u001b[49m\u001b[38;5;241;43m.\u001b[39;49m\u001b[43mwidth\u001b[49m\u001b[43m,\u001b[49m\u001b[43m \u001b[49m\u001b[43mdata_rio\u001b[49m\u001b[38;5;241;43m.\u001b[39;49m\u001b[43mheight\u001b[49m\u001b[43m,\u001b[49m\u001b[43m \u001b[49m\u001b[38;5;241;43m*\u001b[39;49m\u001b[43mdata_rio\u001b[49m\u001b[38;5;241;43m.\u001b[39;49m\u001b[43mbounds\u001b[49m\n\u001b[0;32m     39\u001b[0m \u001b[43m\u001b[49m\u001b[43m)\u001b[49m\n\u001b[0;32m     41\u001b[0m \u001b[38;5;66;03m# 创建一个新的rasterio对象，用于存储重投影后的数据\u001b[39;00m\n\u001b[0;32m     42\u001b[0m kwargs \u001b[38;5;241m=\u001b[39m data_rio\u001b[38;5;241m.\u001b[39mmeta\u001b[38;5;241m.\u001b[39mcopy()\n",
      "File \u001b[1;32mc:\\Users\\HP\\miniconda3\\envs\\venv\\lib\\site-packages\\rasterio\\env.py:413\u001b[0m, in \u001b[0;36mensure_env.<locals>.wrapper\u001b[1;34m(*args, **kwds)\u001b[0m\n\u001b[0;32m    411\u001b[0m \u001b[38;5;28;01melse\u001b[39;00m:\n\u001b[0;32m    412\u001b[0m     \u001b[38;5;28;01mwith\u001b[39;00m Env\u001b[38;5;241m.\u001b[39mfrom_defaults():\n\u001b[1;32m--> 413\u001b[0m         \u001b[38;5;28;01mreturn\u001b[39;00m f(\u001b[38;5;241m*\u001b[39margs, \u001b[38;5;241m*\u001b[39m\u001b[38;5;241m*\u001b[39mkwds)\n",
      "File \u001b[1;32mc:\\Users\\HP\\miniconda3\\envs\\venv\\lib\\site-packages\\rasterio\\warp.py:556\u001b[0m, in \u001b[0;36mcalculate_default_transform\u001b[1;34m(src_crs, dst_crs, width, height, left, bottom, right, top, gcps, rpcs, resolution, dst_width, dst_height, src_geoloc_array, **kwargs)\u001b[0m\n\u001b[0;32m    553\u001b[0m \u001b[38;5;28;01mif\u001b[39;00m resolution \u001b[38;5;129;01mand\u001b[39;00m dimensions:\n\u001b[0;32m    554\u001b[0m     \u001b[38;5;28;01mraise\u001b[39;00m \u001b[38;5;167;01mValueError\u001b[39;00m(\u001b[38;5;124m\"\u001b[39m\u001b[38;5;124mResolution cannot be used with dst_width and dst_height.\u001b[39m\u001b[38;5;124m\"\u001b[39m)\n\u001b[1;32m--> 556\u001b[0m dst_affine, dst_width, dst_height \u001b[38;5;241m=\u001b[39m _calculate_default_transform(\n\u001b[0;32m    557\u001b[0m     src_crs,\n\u001b[0;32m    558\u001b[0m     dst_crs,\n\u001b[0;32m    559\u001b[0m     width,\n\u001b[0;32m    560\u001b[0m     height,\n\u001b[0;32m    561\u001b[0m     left\u001b[38;5;241m=\u001b[39mleft,\n\u001b[0;32m    562\u001b[0m     bottom\u001b[38;5;241m=\u001b[39mbottom,\n\u001b[0;32m    563\u001b[0m     right\u001b[38;5;241m=\u001b[39mright,\n\u001b[0;32m    564\u001b[0m     top\u001b[38;5;241m=\u001b[39mtop,\n\u001b[0;32m    565\u001b[0m     gcps\u001b[38;5;241m=\u001b[39mgcps,\n\u001b[0;32m    566\u001b[0m     rpcs\u001b[38;5;241m=\u001b[39mrpcs,\n\u001b[0;32m    567\u001b[0m     src_geoloc_array\u001b[38;5;241m=\u001b[39msrc_geoloc_array,\n\u001b[0;32m    568\u001b[0m     \u001b[38;5;241m*\u001b[39m\u001b[38;5;241m*\u001b[39mkwargs\n\u001b[0;32m    569\u001b[0m )\n\u001b[0;32m    571\u001b[0m \u001b[38;5;66;03m# If resolution is specified, Keep upper-left anchored\u001b[39;00m\n\u001b[0;32m    572\u001b[0m \u001b[38;5;66;03m# adjust the transform resolutions\u001b[39;00m\n\u001b[0;32m    573\u001b[0m \u001b[38;5;66;03m# adjust the width/height by the ratio of estimated:specified res (ceil'd)\u001b[39;00m\n\u001b[0;32m    574\u001b[0m \u001b[38;5;28;01mif\u001b[39;00m resolution:\n\u001b[0;32m    575\u001b[0m     \u001b[38;5;66;03m# resolutions argument into tuple\u001b[39;00m\n",
      "File \u001b[1;32mrasterio\\\\_warp.pyx:726\u001b[0m, in \u001b[0;36mrasterio._warp._calculate_default_transform\u001b[1;34m()\u001b[0m\n",
      "File \u001b[1;32mrasterio\\\\crs.pyx:790\u001b[0m, in \u001b[0;36mrasterio.crs.CRS.from_user_input\u001b[1;34m()\u001b[0m\n",
      "File \u001b[1;32mrasterio\\\\crs.pyx:852\u001b[0m, in \u001b[0;36mrasterio.crs.CRS.from_string\u001b[1;34m()\u001b[0m\n",
      "File \u001b[1;32mrasterio\\\\crs.pyx:596\u001b[0m, in \u001b[0;36mrasterio.crs.CRS.from_epsg\u001b[1;34m()\u001b[0m\n",
      "\u001b[1;31mCRSError\u001b[0m: The EPSG code is unknown. PROJ: proj_create_from_database: C:\\Users\\HP\\miniconda3\\envs\\venv\\Library\\share\\proj\\proj.db contains DATABASE.LAYOUT.VERSION.MINOR = 2 whereas a number >= 4 is expected. It comes from another PROJ installation."
     ]
    }
   ],
   "source": [
    "path_1 = 'data/Section-6/s2_kunming_chenggong_6bands_20m.tif'\n",
    "path_out = 'data/Section-6/s2_kunming_chenggong_6bands_20m_wgs84.tif'\n",
    "vec_ref = 'data/Section-6/kunming_wgs84.gpkg'\n",
    "raster_ref = 'data/Section-6/s2_kunming_chenggong_4bands_10m_wgs84.tif'\n",
    "\n",
    "data_rio = rasterio.open(path_1)  # 打开栅格数据文件\n",
    "vec_ref_gpd = gpd.read_file(vec_ref)  # 加载 GPKG 矢量数据\n",
    "data_ref_rio = rasterio.open(raster_ref)  # 打开栅格数据文件\n",
    "\n",
    "crs_dst = 'EPSG:4326'  # 设置目标CRS为WGS84坐标系\n",
    "##示例调用\n",
    "dst = img_reproj(data_rio=data_rio, crs_dst=crs_dst, output_path=path_out)   # 调用重投影函数\n"
   ]
  },
  {
   "cell_type": "code",
   "execution_count": null,
   "metadata": {},
   "outputs": [],
   "source": [
    "\n",
    "\n",
    "\n"
   ]
  },
  {
   "cell_type": "code",
   "execution_count": null,
   "metadata": {},
   "outputs": [],
   "source": [
    "\n",
    "\n"
   ]
  }
 ],
 "metadata": {
  "kernelspec": {
   "display_name": "venv",
   "language": "python",
   "name": "python3"
  },
  "language_info": {
   "codemirror_mode": {
    "name": "ipython",
    "version": 3
   },
   "file_extension": ".py",
   "mimetype": "text/x-python",
   "name": "python",
   "nbconvert_exporter": "python",
   "pygments_lexer": "ipython3",
   "version": "3.9.18"
  }
 },
 "nbformat": 4,
 "nbformat_minor": 2
}
