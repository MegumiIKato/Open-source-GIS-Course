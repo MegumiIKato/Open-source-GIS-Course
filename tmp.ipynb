{
 "cells": [
  {
   "cell_type": "code",
   "execution_count": 1,
   "metadata": {},
   "outputs": [],
   "source": [
    "from osgeo import ogr\n",
    "def vec_sel(path,path_out,field,field_values): \n",
    "    in_ds=ogr.Open(path,0)#打开矢量数据的数据源，设置为只读\n",
    "    in_layer=in_ds.GetLayer()#打开矢量数据的图层\n",
    "    driver=ogr.GetDriverByName('ESRI Shapefile') #创建用于Shapefile格式的数据驱动\n",
    "    ds_out=driver.CreateDataSource(path_out) #创建数据源\n",
    "    #创建图层，图层名为selected，几何类型为Polygon，空间参考从读入的矢量数据的图层中获取\n",
    "    layer_out=ds_out.CreateLayer(\"selected\", geom_type=ogr.wkbPolygon, srs=in_layer.GetSpatialRef()) \n",
    "    fea_defn=layer_out.GetLayerDefn() #从定义好的输出图层中获取要素定义\n",
    "    in_fea=in_layer.GetFeature(1) #从读入的图层中获取一个要素\n",
    "    layer_defn=layer_out.GetLayerDefn()#从定义好的输出图层中获取图层定义\n",
    "    print(\"number of fields(before field creating):\",layer_defn.GetFieldCount())#打印当前输出图层的字段数（创建字段前）\n",
    "    for i in range(in_fea.GetFieldCount()): #通过获取的要素遍历字段\n",
    "        field_defn=in_fea.GetFieldDefnRef(i)#获取字段定义\n",
    "        layer_out.CreateField(field_defn) #将字段写入图层\n",
    "        layer_defn=layer_out.GetLayerDefn()#更新输出图层的定义\n",
    "    print(\"number of fields(after field creating):\",layer_defn.GetFieldCount())#打印当前输出图层的字段数（创建字段后）\n",
    "    for i in range(in_layer.GetFeatureCount()): #遍历读入图层中的所有要素\n",
    "        in_fea=in_layer.GetFeature(i) #获取当前要素\n",
    "        fea_out=ogr.Feature(fea_defn)  #创建一个新的要素对象用于输出\n",
    "        if str(in_fea.GetField(field)) in field_values:#判断是否为选取的要素  \n",
    "            fea_out.SetGeometry(in_fea.geometry()) #获取选取要素的几何数据\n",
    "            for i in range(in_fea.GetFieldCount()): #遍历读入要素的所有字段\n",
    "                outfield_value=in_fea.GetField(i)  # 获取当前字段的值\n",
    "                fea_out.SetField(i,outfield_value) #获取选取要素的属性数据（字段数据）\n",
    "            layer_out.CreateFeature(fea_out)    #将选取要素写入图层\n",
    "    in_ds=None #关闭读入数据源\n",
    "    ds_out=None #关闭输出数据源\n",
    "    return #无返回值\n"
   ]
  },
  {
   "cell_type": "code",
   "execution_count": 5,
   "metadata": {},
   "outputs": [
    {
     "name": "stdout",
     "output_type": "stream",
     "text": [
      "number of fields(before field creating): 0\n",
      "number of fields(after field creating): 3\n"
     ]
    }
   ],
   "source": [
    "path = 'data/Section-6/kunming_wgs84.shp' # 读入文件的路径\n",
    "path_out = 'data/Section-6/selected_areas_4.shp'  # 写出文件的路径\n",
    "\n",
    "# 定义字段\n",
    "field = 'dt_name'\n",
    "\n",
    "# 定义选择的字段\n",
    "field_value = ['wuhua', \"panglong\"]\n",
    "\n",
    "# read(path=path)\n",
    "# 调用 vec_sel 函数，并传递选定的区域和字段列表\n",
    "vec_sel(path=path,path_out=path_out, field=field, field_values=field_value)\n",
    "\n"
   ]
  }
 ],
 "metadata": {
  "kernelspec": {
   "display_name": "venv",
   "language": "python",
   "name": "python3"
  },
  "language_info": {
   "codemirror_mode": {
    "name": "ipython",
    "version": 3
   },
   "file_extension": ".py",
   "mimetype": "text/x-python",
   "name": "python",
   "nbconvert_exporter": "python",
   "pygments_lexer": "ipython3",
   "version": "3.9.18"
  }
 },
 "nbformat": 4,
 "nbformat_minor": 2
}
