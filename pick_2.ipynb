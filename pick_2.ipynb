{
 "cells": [
  {
   "cell_type": "code",
   "execution_count": null,
   "metadata": {},
   "outputs": [
    {
     "name": "stdout",
     "output_type": "stream",
     "text": [
      "['孙苡皓', '浦方州', '胡喜', '张源舫', '杨琦佳', '杨韦嘉']\n"
     ]
    }
   ],
   "source": [
    "import numpy as np\n",
    "\n",
    "students = [\n",
    "    ['王显峰', '周星宇', '段忠彬', '李树萍', '刘兴茹', '娄以佳'],\n",
    "    # ['孙苡皓', '浦方州', '胡喜', '张源舫', '杨琦佳', '杨韦嘉'],\n",
    "    ['郑道旸', '洪阳', '李佳宇', '石娜丽','李欣荣', '何哈优'],\n",
    "    # ['李永旭', '胡枭鑫', '成蔚', '郑静', '施珍敏', '许人允'],\n",
    "    ['汪俊涵', '李根轩', '邰新茹', '袁婧', '孔令娜']\n",
    "    ]\n",
    "groud_id = np.random.randint(0, len(students))\n",
    "group = students[groud_id]\n",
    "print(group)\n",
    "\n"
   ]
  },
  {
   "cell_type": "code",
   "execution_count": 4,
   "metadata": {},
   "outputs": [
    {
     "name": "stdout",
     "output_type": "stream",
     "text": [
      "孙苡皓\n"
     ]
    }
   ],
   "source": [
    "student_id = np.random.randint(0, len(group))\n",
    "student = group[student_id]\n",
    "print(student)\n"
   ]
  }
 ],
 "metadata": {
  "kernelspec": {
   "display_name": "venv",
   "language": "python",
   "name": "python3"
  },
  "language_info": {
   "codemirror_mode": {
    "name": "ipython",
    "version": 3
   },
   "file_extension": ".py",
   "mimetype": "text/x-python",
   "name": "python",
   "nbconvert_exporter": "python",
   "pygments_lexer": "ipython3",
   "version": "3.9.18"
  }
 },
 "nbformat": 4,
 "nbformat_minor": 2
}
