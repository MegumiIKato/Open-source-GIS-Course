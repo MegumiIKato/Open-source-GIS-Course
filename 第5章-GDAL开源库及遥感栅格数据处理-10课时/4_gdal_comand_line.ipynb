{
 "cells": [
  {
   "cell_type": "markdown",
   "metadata": {},
   "source": [
    "#### gdal命令行工具\n",
    "通过notebook演示,需在命令前加'!'."
   ]
  },
  {
   "cell_type": "markdown",
   "metadata": {},
   "source": [
    "影像裁剪: gdal_translate   \n",
    "1. 重采样（指定分辨率）   \n",
    "gdal_translate -co COMPRESS=LZW -tr 100 100 -r average $path_in $path_out    \n",
    "2. 重采样（指定输出影像尺寸）   \n",
    "gdal_translate -co COMPRESS=LZW -outsize 100 100 -r average $path_in $path_out      \n",
    "3. 裁剪（基于空间范围, extent: 'left up right down', 例如: extent='72 38 84 34'）  \n",
    "gdal_translate -co COMPRESS=LZW -projwin $extent $path_in $path_out     \n",
    "(参考：https://gdal.org/programs/gdal_translate.html)    \n",
    "\n"
   ]
  },
  {
   "cell_type": "code",
   "execution_count": 1,
   "metadata": {},
   "outputs": [
    {
     "name": "stdout",
     "output_type": "stream",
     "text": [
      "Input file size is 2996, 3224\n",
      "0...10...20...30...40...50...60...70...80...90...100 - done.\n"
     ]
    }
   ],
   "source": [
    "path_in = 'data/Section-2/s2_kunming_chenggong_4bands_10m.tif'   \n",
    "path_resam1 = 'data/Section-5/s2_kunming_chenggong_4bands_10m_resam25m.tif'   \n",
    "path_resam2 = 'data/Section-5/s2_kunming_chenggong_4bands_10m_resam100x100.tif'   \n",
    "path_subs = 'data/Section-5/s2_kunming_chenggong_4bands_10m_subs2.tif'   \n",
    "extent = '280200 2750700 281400 2748300'      \n",
    "# !gdal_translate -co COMPRESS=LZW -tr 25 25 -r average $path_in $path_resam1   \n",
    "# !gdal_translate -co COMPRESS=LZW -outsize 100 100 -r average $path_in $path_resam2   \n",
    "!gdal_translate -co COMPRESS=LZW -projwin $extent $path_in $path_subs  \n",
    "\n"
   ]
  },
  {
   "cell_type": "markdown",
   "metadata": {},
   "source": [
    "gdalwarp    \n",
    "1. 坐标系转换(地理坐标系->投影坐标系)   \n",
    "gdalwarp -co COMPRESS=LZW -overwrite -s_srs EPSG:4326 -t_srs EPSG:32644 -r bilinear input.tif output.tif     \n",
    "1. 裁剪(基于矢量数据)    \n",
    "gdalwarp -co COMPRESS=LZW -cutline $path_shp -crop_to_cutline $path_input $path_output     \n",
    "参考：https://gdal.org/programs/gdalwarp.html\n"
   ]
  },
  {
   "cell_type": "code",
   "execution_count": 20,
   "metadata": {},
   "outputs": [
    {
     "name": "stdout",
     "output_type": "stream",
     "text": [
      "Creating output file that is 533P x 363L.\n",
      "Processing data/Section-2/s2_kunming_chenggong_4bands_10m.tif [1/1] : 0...10...20...30...40...50...60...70...80...90...100 - done.\n"
     ]
    }
   ],
   "source": [
    "path_in = 'data/Section-2/s2_kunming_chenggong_4bands_10m.tif'      ### 投影: utm48->wgs84\n",
    "# path_out = 'data/Section-5/s2_kunming_chenggong_4bands_10m_wgs84.tif'\n",
    "# !gdalwarp -co COMPRESS=LZW -overwrite -s_srs EPSG:32648 -t_srs EPSG:4326 -r bilinear $path_in $path_out  \n",
    "\n",
    "## 矢量裁剪\n",
    "path_vec = 'data/Section-5/subs_1.gpkg'\n",
    "path_subs = 'data/Section-5/s2_kunming_chenggong_4bands_10m_subs1_.tif'\n",
    "!gdalwarp -co COMPRESS=LZW -cutline $path_vec -crop_to_cutline $path_in $path_subs \n",
    "\n"
   ]
  },
  {
   "cell_type": "markdown",
   "metadata": {},
   "source": [
    "影像拼接：gdal_merge（!!!低版本gdal可能存在问题）    \n",
    "1. 影像拼接（-init:拼接影像初始化值。-n:拼接过程忽略值）  \n",
    "gdal_merge.py -co COMPRESS=LZW -init 0 -o $path_out $path_in_1 $path_in_2 $path_in_3   \n",
    "(参考：https://gdal.org/programs/gdal_merge.html)\n"
   ]
  },
  {
   "cell_type": "code",
   "execution_count": 18,
   "metadata": {},
   "outputs": [
    {
     "name": "stderr",
     "output_type": "stream",
     "text": [
      "'gdal_merge' �����ڲ����ⲿ���Ҳ���ǿ����еĳ���\n",
      "���������ļ���\n"
     ]
    }
   ],
   "source": [
    "# path_in_1 = 'data/Section-5/s2_kunming_chenggong_4bands_10m_subs1.tif'\n",
    "# path_in_2 = 'data/Section-5/s2_kunming_chenggong_4bands_10m_subs2.tif'\n",
    "# path_out = 'data/Section-5/s2_kunming_chenggong_4bands_10m_mosaic.tif'\n",
    "# !gdal_merge.py -co COMPRESS=LZW -o $path_out $path_in_1 $path_in_2\n"
   ]
  },
  {
   "cell_type": "markdown",
   "metadata": {},
   "source": [
    "gdal_polygonize.py   \n",
    "1. 遥感影像矢量化（无法对特定DN值的像素进行矢量化。）    \n",
    "gdal_polygonize.py $path_img $path_img2polygon     \n",
    "参考：https://gdal.org/programs/gdal_polygonize.html）   \n",
    "\n"
   ]
  },
  {
   "cell_type": "code",
   "execution_count": 4,
   "metadata": {},
   "outputs": [
    {
     "name": "stdout",
     "output_type": "stream",
     "text": [
      "0...10...20...30...40...50...60...70...80...90...100 - done.\n"
     ]
    },
    {
     "name": "stderr",
     "output_type": "stream",
     "text": [
      "C:\\Users\\HP\\miniconda3\\envs\\venv\\Scripts\\gdal_polygonize.py:4: DeprecationWarning: pkg_resources is deprecated as an API. See https://setuptools.pypa.io/en/latest/pkg_resources.html\n",
      "  __import__('pkg_resources').run_script('GDAL==3.6.2', 'gdal_polygonize.py')\n"
     ]
    }
   ],
   "source": [
    "path_img = 'data/Section-5/s2_chenggong_mndwi_thre01.tif'\n",
    "path_vec = 'data/Section-5/s2_chenggong_mndwi_thre01_poly.gpkg'\n",
    "!gdal_polygonize.py $path_img $path_vec\n"
   ]
  },
  {
   "cell_type": "markdown",
   "metadata": {},
   "source": [
    "gdal_rasterize   \n",
    "1. 矢量数据栅格化（-b:波段次序，1代表一个波段，-a：像元值对应的矢量数据属性名）     \n",
    "gdal_rasterize -ts 1000 1000 -burn 1 $path_vec $path_raster   \n",
    "参考：https://gdal.org/programs/gdal_rasterize.html  \n"
   ]
  },
  {
   "cell_type": "code",
   "execution_count": 7,
   "metadata": {},
   "outputs": [
    {
     "name": "stdout",
     "output_type": "stream",
     "text": [
      "0...10...20...30...40...50...60...70...80...90...100 - done.\n"
     ]
    }
   ],
   "source": [
    "path_vec = 'data/Section-5/s2_chenggong_mndwi_thre01_poly.gpkg'\n",
    "path_raster = 'data/Section-5/s2_chenggong_mndwi_thre01_poly2raster.tif'\n",
    "!gdal_rasterize -ts 1000 1000 -burn 10 $path_vec $path_raster \n"
   ]
  },
  {
   "cell_type": "code",
   "execution_count": null,
   "metadata": {},
   "outputs": [],
   "source": [
    "\n"
   ]
  }
 ],
 "metadata": {
  "kernelspec": {
   "display_name": "venv",
   "language": "python",
   "name": "python3"
  },
  "language_info": {
   "codemirror_mode": {
    "name": "ipython",
    "version": 3
   },
   "file_extension": ".py",
   "mimetype": "text/x-python",
   "name": "python",
   "nbconvert_exporter": "python",
   "pygments_lexer": "ipython3",
   "version": "3.9.18"
  }
 },
 "nbformat": 4,
 "nbformat_minor": 2
}
