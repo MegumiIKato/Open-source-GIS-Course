{
 "cells": [
  {
   "attachments": {},
   "cell_type": "markdown",
   "metadata": {},
   "source": [
    "利用矢量数据对栅格数据进行裁剪\n"
   ]
  },
  {
   "cell_type": "code",
   "execution_count": 7,
   "metadata": {},
   "outputs": [],
   "source": [
    "from osgeo import gdal\n"
   ]
  },
  {
   "cell_type": "code",
   "execution_count": 8,
   "metadata": {},
   "outputs": [],
   "source": [
    "path_rsimg = 'data/Section-2/s2_kunming_chenggong_4bands_10m_wgs84.tif'\n",
    "path_vec = 'data/Section-5/subs_1.gpkg'\n",
    "path_rsimg_subs = 'data/Section-5/s2_kunming_chenggong_4bands_10m_subs1.tif'\n"
   ]
  },
  {
   "attachments": {},
   "cell_type": "markdown",
   "metadata": {},
   "source": [
    "函数：gdal.Warp()\n",
    "函数用法：dset_subs = gdal.Warp(destNameOrDestDS, srcDSOrSrcDSTab, cutlineDSName)     \n",
    "其中主要参数：  \n",
    "destNameOrDestDS：为输出裁剪后图像路径，  \n",
    "srcDSOrSrcDSTab为原始图像路径；   \n",
    "cutlineDSName为矢量文件路径。    \n",
    "命令行用法：\n",
    "gdalwarp -cutline $path_vec $path_rsimg $path_rsimg_subs\n",
    "\n",
    "\n",
    "具体可参考：https://gdal.org/api/python/osgeo.gdal.html\n"
   ]
  },
  {
   "cell_type": "code",
   "execution_count": 12,
   "metadata": {},
   "outputs": [],
   "source": [
    "### ！应确保矢量数据所有要素的有效性（可用qgis检查）\n",
    "dset_rsimg_subs = gdal.Warp(destNameOrDestDS = path_rsimg_subs, \n",
    "                            srcDSOrSrcDSTab = path_rsimg,                            \n",
    "                            cutlineDSName = path_vec,\n",
    "                            dstNodata=0)  ## dstNodata: 必填参数，值无关\n",
    "dset_rsimg_subs = None\n"
   ]
  }
 ],
 "metadata": {
  "kernelspec": {
   "display_name": "venv",
   "language": "python",
   "name": "python3"
  },
  "language_info": {
   "codemirror_mode": {
    "name": "ipython",
    "version": 3
   },
   "file_extension": ".py",
   "mimetype": "text/x-python",
   "name": "python",
   "nbconvert_exporter": "python",
   "pygments_lexer": "ipython3",
   "version": "3.9.18"
  },
  "orig_nbformat": 4
 },
 "nbformat": 4,
 "nbformat_minor": 2
}
